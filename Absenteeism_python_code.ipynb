{
 "cells": [
  {
   "cell_type": "code",
   "execution_count": 1,
   "metadata": {},
   "outputs": [],
   "source": [
    "#Import pythond library\n",
    "import pandas as pd\n",
    "import os\n",
    "from datetime import date\n",
    "import pymysql\n",
    "import sys"
   ]
  },
  {
   "cell_type": "code",
   "execution_count": 2,
   "metadata": {},
   "outputs": [],
   "source": [
    "#Set the working directory\n",
    "os.chdir(\"C:/Users/Vrushabhkumar/Desktop/RVI_47/Update Data/AssetNotes\")"
   ]
  },
  {
   "cell_type": "code",
   "execution_count": 3,
   "metadata": {},
   "outputs": [],
   "source": [
    "#Setting connection with Mysql Server\n",
    "conn = pymysql.connect(host = 'wayne-read-replica.cge5lukryrbb.us-west-2.rds.amazonaws.com',port = 3306, user='vrushabh', password='Entytle@2020')\n",
    "cursor = conn.cursor()"
   ]
  },
  {
   "cell_type": "code",
   "execution_count": 4,
   "metadata": {},
   "outputs": [
    {
     "name": "stdout",
     "output_type": "stream",
     "text": [
      "Enter jobId for Orders : 14927\n",
      "Enter jobId for Assets : 14928\n"
     ]
    }
   ],
   "source": [
    "#Enter jobId from Orders and Assets\n",
    "orderJobId = input(\"Enter jobId for Orders : \")\n",
    "assetJobId = input(\"Enter jobId for Assets : \")"
   ]
  },
  {
   "cell_type": "code",
   "execution_count": 5,
   "metadata": {},
   "outputs": [],
   "source": [
    "Oquery = \"Select distinct orderNumber from data_loader.Order where clientId = 47 and jobId in (\" + orderJobId + \") and orderNumber is not null;\""
   ]
  },
  {
   "cell_type": "code",
   "execution_count": 6,
   "metadata": {},
   "outputs": [],
   "source": [
    "Aquery = \"Select distinct custom12 as orderNumber from data_loader.Asset where clientId = 47 and jobId in (\" + assetJobId + \") and custom12 is not null;\""
   ]
  },
  {
   "cell_type": "code",
   "execution_count": 7,
   "metadata": {},
   "outputs": [],
   "source": [
    "#Extract and store the orderNumber from Orders data\n",
    "ON_1 = pd.read_sql_query(Oquery, conn)\n",
    "ON_1 = list(map(str,ON_1['orderNumber']))"
   ]
  },
  {
   "cell_type": "code",
   "execution_count": 8,
   "metadata": {},
   "outputs": [],
   "source": [
    "#Extract and store orderNumber from Assets data\n",
    "ON_2 = pd.read_sql_query(Aquery, conn)\n",
    "ON_2 = list(map(str,ON_2['orderNumber']))"
   ]
  },
  {
   "cell_type": "code",
   "execution_count": 9,
   "metadata": {},
   "outputs": [],
   "source": [
    "#List of total destinct orderNumber from both Order and Asset\n",
    "ON = ON_1 + ON_2"
   ]
  },
  {
   "cell_type": "code",
   "execution_count": 10,
   "metadata": {},
   "outputs": [],
   "source": [
    "#list to string\n",
    "ON = ','.join(ON)"
   ]
  },
  {
   "cell_type": "code",
   "execution_count": 11,
   "metadata": {},
   "outputs": [],
   "source": [
    "#SQL query to fetch assets for which Notes to be created\n",
    "query1 = \"SELECT ma.id assetId, mac.custom12 orderNumber FROM platinum.MasterAsset ma \\\n",
    "         LEFT JOIN platinum.MasterAssetCustom mac ON \\\n",
    "         ma.id = mac.id AND ma.clientId = mac.clientId AND \\\n",
    "         ma.deleted = mac.deleted WHERE \\\n",
    "         ma.clientId = 47 and mac.custom12 in (\" + ON + \");\""
   ]
  },
  {
   "cell_type": "code",
   "execution_count": 12,
   "metadata": {},
   "outputs": [],
   "source": [
    "#Extract and store the data\n",
    "df = pd.read_sql_query(query1, conn)"
   ]
  },
  {
   "cell_type": "code",
   "execution_count": 13,
   "metadata": {},
   "outputs": [],
   "source": [
    "#save the data to csv file\n",
    "df.to_csv(\"Assets.csv\", index=False)"
   ]
  },
  {
   "cell_type": "code",
   "execution_count": 14,
   "metadata": {},
   "outputs": [],
   "source": [
    "#Import file containing assetId and orderNumber for which AssetNotes to be created.\n",
    "Asset = pd.read_csv(\"Assets.csv\")"
   ]
  },
  {
   "cell_type": "code",
   "execution_count": 15,
   "metadata": {},
   "outputs": [],
   "source": [
    "#order number of accessories corresponding to assets sold\n",
    "orderNumber = list(set(Asset['orderNumber']))\n",
    "orderNumber = list(map(str,orderNumber))\n",
    "orderNumber = \",\".join(orderNumber)"
   ]
  },
  {
   "cell_type": "code",
   "execution_count": 16,
   "metadata": {},
   "outputs": [],
   "source": [
    "# Query to fetch accessories sold with assets\n",
    "query2 = \"Select orderNumber,itemDescription from platinum.MasterOrder where clientid = 47 and deleted = 0 and isCause = 0 and orderNumber in\" + \"(\" + orderNumber + \");\""
   ]
  },
  {
   "cell_type": "code",
   "execution_count": 17,
   "metadata": {},
   "outputs": [],
   "source": [
    "#Extract the data and store\n",
    "results = pd.read_sql_query(query2, conn)\n",
    "results.to_csv(\"Orders.csv\", index=False)"
   ]
  },
  {
   "cell_type": "code",
   "execution_count": 18,
   "metadata": {},
   "outputs": [],
   "source": [
    "#Import the Accessories file\n",
    "Accessories = pd.read_csv(\"Orders.csv\")"
   ]
  },
  {
   "cell_type": "code",
   "execution_count": 19,
   "metadata": {},
   "outputs": [],
   "source": [
    "#Keep unique accessories in each order\n",
    "Accessories.drop_duplicates(subset=['orderNumber', 'itemDescription'], inplace = True)"
   ]
  },
  {
   "cell_type": "code",
   "execution_count": 20,
   "metadata": {},
   "outputs": [],
   "source": [
    "#Sort Accessories by orderNumber and then itemDescription\n",
    "Accessories.sort_values([\"orderNumber\",\"itemDescription\"], inplace = True)"
   ]
  },
  {
   "cell_type": "code",
   "execution_count": 21,
   "metadata": {},
   "outputs": [],
   "source": [
    "#Change data type of itemDescription to str\n",
    "Accessories['itemDescription'] = Accessories['itemDescription'].astype(str)"
   ]
  },
  {
   "cell_type": "code",
   "execution_count": 22,
   "metadata": {},
   "outputs": [],
   "source": [
    "#Concat accessories by orderNumber\n",
    "Notes = Accessories.groupby('orderNumber')['itemDescription'].apply(lambda x :\"\\n\".join(x)).reset_index()"
   ]
  },
  {
   "cell_type": "code",
   "execution_count": 23,
   "metadata": {},
   "outputs": [],
   "source": [
    "#Prepare Notes\n",
    "Notes['itemDescription'] = \"Accessories sold in the same order:\\n-----------------------------------\\n\" + Notes['itemDescription']"
   ]
  },
  {
   "cell_type": "code",
   "execution_count": 24,
   "metadata": {},
   "outputs": [],
   "source": [
    "#Rename column\n",
    "Notes.rename(columns={'itemDescription':'notes'},inplace = True)"
   ]
  },
  {
   "cell_type": "code",
   "execution_count": 25,
   "metadata": {},
   "outputs": [],
   "source": [
    "#Join Notes table with Assets table\n",
    "AssetNotes = Asset.merge(Notes,how = 'left',left_on = \"orderNumber\",right_on = \"orderNumber\")"
   ]
  },
  {
   "cell_type": "code",
   "execution_count": 26,
   "metadata": {},
   "outputs": [],
   "source": [
    "#Drop orderNumber column from AssetNotes table\n",
    "AssetNotes.drop([\"orderNumber\"],axis = 1,inplace = True)"
   ]
  },
  {
   "cell_type": "code",
   "execution_count": 27,
   "metadata": {},
   "outputs": [],
   "source": [
    "#Replace null values in notes with space\n",
    "AssetNotes['notes'].fillna(\" \",inplace = True)"
   ]
  },
  {
   "cell_type": "code",
   "execution_count": 28,
   "metadata": {},
   "outputs": [],
   "source": [
    "#Fetching todays date\n",
    "Tdate = date.today().strftime(\"%d%b%Y\")"
   ]
  },
  {
   "cell_type": "code",
   "execution_count": 29,
   "metadata": {},
   "outputs": [],
   "source": [
    "#Preparing name for file to be used to update AssetNotes\n",
    "filename = \"Updt_AssetNotes_\"+Tdate+\".csv\""
   ]
  },
  {
   "cell_type": "code",
   "execution_count": 30,
   "metadata": {},
   "outputs": [
    {
     "name": "stdout",
     "output_type": "stream",
     "text": [
      "Your file *Updt_AssetNotes_08Sep2020.csv* is ready!!\n"
     ]
    }
   ],
   "source": [
    "#Export to csv\n",
    "AssetNotes.to_csv(filename, index = False)\n",
    "print(\"Your file *\" + filename + \"* is ready!!\")"
   ]
  },
  {
   "cell_type": "code",
   "execution_count": null,
   "metadata": {},
   "outputs": [],
   "source": []
  }
 ],
 "metadata": {
  "kernelspec": {
   "display_name": "Python 3",
   "language": "python",
   "name": "python3"
  },
  "language_info": {
   "codemirror_mode": {
    "name": "ipython",
    "version": 3
   },
   "file_extension": ".py",
   "mimetype": "text/x-python",
   "name": "python",
   "nbconvert_exporter": "python",
   "pygments_lexer": "ipython3",
   "version": "3.8.5"
  }
 },
 "nbformat": 4,
 "nbformat_minor": 4
}
